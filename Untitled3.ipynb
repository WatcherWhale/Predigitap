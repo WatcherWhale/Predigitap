{
 "cells": [
  {
   "cell_type": "code",
   "execution_count": null,
   "id": "9c36d043-9894-4d69-a1e2-c23c2e1b5365",
   "metadata": {},
   "outputs": [],
   "source": []
  }
 ],
 "metadata": {
  "kernelspec": {
   "display_name": "Python 3.9.13 64-bit (microsoft store)",
   "language": "python",
   "name": "python3"
  },
  "language_info": {
   "codemirror_mode": {
    "name": "ipython",
    "version": 3
   },
   "file_extension": ".py",
   "mimetype": "text/x-python",
   "name": "python",
   "nbconvert_exporter": "python",
   "pygments_lexer": "ipython3",
   "version": "3.9.13"
  },
  "vscode": {
   "interpreter": {
    "hash": "7efeb972ef2d0b981bc827620eb57bb67f3e9f405daab39579f6a4522d65427c"
   }
  }
 },
 "nbformat": 4,
 "nbformat_minor": 5
}

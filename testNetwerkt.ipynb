{
 "cells": [
  {
   "cell_type": "code",
   "execution_count": 1,
   "id": "0b188fa6-af31-4a30-931c-cd8f4c03ce6f",
   "metadata": {},
   "outputs": [
    {
     "name": "stderr",
     "output_type": "stream",
     "text": [
      "2022-10-12 13:48:17.991497: I tensorflow/core/platform/cpu_feature_guard.cc:193] This TensorFlow binary is optimized with oneAPI Deep Neural Network Library (oneDNN) to use the following CPU instructions in performance-critical operations:  SSE3 SSE4.1 SSE4.2 AVX AVX2 FMA\n",
      "To enable them in other operations, rebuild TensorFlow with the appropriate compiler flags.\n",
      "2022-10-12 13:48:18.115622: E tensorflow/stream_executor/cuda/cuda_blas.cc:2981] Unable to register cuBLAS factory: Attempting to register factory for plugin cuBLAS when one has already been registered\n"
     ]
    }
   ],
   "source": [
    "import tensorflow as tf\n",
    "import numpy as np\n",
    "import datetime\n",
    "from sklearn.model_selection import train_test_split\n",
    "\n",
    "from data.generator import generateDataSet, saveDataSet, timedDataSet"
   ]
  },
  {
   "cell_type": "code",
   "execution_count": 2,
   "id": "e8dbd519-eb11-40c2-998b-f23c7d6c951b",
   "metadata": {},
   "outputs": [],
   "source": [
    "input, output = generateDataSet(\"./datasets/raw/logs_WT.csv\", \n",
    "                                \"./datasets/raw/Resultaten_WT.csv\", \n",
    "                                datetime.datetime(2020, 9, 15, 0, 0).timestamp(), \n",
    "                                datetime.datetime(2021, 2, 10, 0, 0).timestamp(),\n",
    "                               100)\n",
    "x = np.array(input)\n",
    "y = np.array(output)"
   ]
  },
  {
   "cell_type": "code",
   "execution_count": 3,
   "id": "26aeee7a-52d4-4084-92fa-2e07e654951d",
   "metadata": {},
   "outputs": [
    {
     "name": "stdout",
     "output_type": "stream",
     "text": [
      "12675\n",
      "4225\n"
     ]
    }
   ],
   "source": [
    "x_train, x_test, y_train, y_test = train_test_split(x, y)\n",
    "\n",
    "print(len(x_train))\n",
    "print(len(x_test))"
   ]
  },
  {
   "cell_type": "code",
   "execution_count": 9,
   "id": "511aaf1e-7b40-4338-bb37-4a87ef468046",
   "metadata": {},
   "outputs": [
    {
     "name": "stdout",
     "output_type": "stream",
     "text": [
      "Epoch 1/50\n",
      "397/397 [==============================] - 2s 3ms/step - loss: 0.8873 - acc: 0.5999\n",
      "Epoch 2/50\n",
      "397/397 [==============================] - 1s 3ms/step - loss: 0.7596 - acc: 0.6418\n",
      "Epoch 3/50\n",
      "397/397 [==============================] - 1s 3ms/step - loss: 0.7097 - acc: 0.6701\n",
      "Epoch 4/50\n",
      "397/397 [==============================] - 1s 3ms/step - loss: 0.6694 - acc: 0.6918\n",
      "Epoch 5/50\n",
      "397/397 [==============================] - 1s 3ms/step - loss: 0.6293 - acc: 0.7060\n",
      "Epoch 6/50\n",
      "397/397 [==============================] - 1s 3ms/step - loss: 0.5979 - acc: 0.7227\n",
      "Epoch 7/50\n",
      "397/397 [==============================] - 1s 3ms/step - loss: 0.5574 - acc: 0.7453\n",
      "Epoch 8/50\n",
      "397/397 [==============================] - 1s 3ms/step - loss: 0.5131 - acc: 0.7653\n",
      "Epoch 9/50\n",
      "397/397 [==============================] - 1s 3ms/step - loss: 0.4698 - acc: 0.7873\n",
      "Epoch 10/50\n",
      "397/397 [==============================] - 1s 3ms/step - loss: 0.4561 - acc: 0.7936\n",
      "Epoch 11/50\n",
      "397/397 [==============================] - 1s 3ms/step - loss: 0.4304 - acc: 0.8028\n",
      "Epoch 12/50\n",
      "397/397 [==============================] - 1s 3ms/step - loss: 0.3994 - acc: 0.8191\n",
      "Epoch 13/50\n",
      "397/397 [==============================] - 1s 3ms/step - loss: 0.3855 - acc: 0.8242\n",
      "Epoch 14/50\n",
      "397/397 [==============================] - 1s 3ms/step - loss: 0.3646 - acc: 0.8398\n",
      "Epoch 15/50\n",
      "397/397 [==============================] - 1s 3ms/step - loss: 0.3543 - acc: 0.8436\n",
      "Epoch 16/50\n",
      "397/397 [==============================] - 1s 3ms/step - loss: 0.3521 - acc: 0.8456\n",
      "Epoch 17/50\n",
      "397/397 [==============================] - 1s 3ms/step - loss: 0.3387 - acc: 0.8481\n",
      "Epoch 18/50\n",
      "397/397 [==============================] - 1s 3ms/step - loss: 0.3300 - acc: 0.8507\n",
      "Epoch 19/50\n",
      "397/397 [==============================] - 1s 3ms/step - loss: 0.3210 - acc: 0.8591\n",
      "Epoch 20/50\n",
      "397/397 [==============================] - 1s 3ms/step - loss: 0.3101 - acc: 0.8633\n",
      "Epoch 21/50\n",
      "397/397 [==============================] - 1s 3ms/step - loss: 0.3057 - acc: 0.8656\n",
      "Epoch 22/50\n",
      "397/397 [==============================] - 1s 3ms/step - loss: 0.2910 - acc: 0.8706\n",
      "Epoch 23/50\n",
      "397/397 [==============================] - 1s 3ms/step - loss: 0.2850 - acc: 0.8738\n",
      "Epoch 24/50\n",
      "397/397 [==============================] - 1s 3ms/step - loss: 0.2788 - acc: 0.8763\n",
      "Epoch 25/50\n",
      "397/397 [==============================] - 1s 3ms/step - loss: 0.2840 - acc: 0.8769\n",
      "Epoch 26/50\n",
      "397/397 [==============================] - 1s 3ms/step - loss: 0.2725 - acc: 0.8818\n",
      "Epoch 27/50\n",
      "397/397 [==============================] - 1s 3ms/step - loss: 0.2611 - acc: 0.8843\n",
      "Epoch 28/50\n",
      "397/397 [==============================] - 1s 3ms/step - loss: 0.2731 - acc: 0.8799\n",
      "Epoch 29/50\n",
      "397/397 [==============================] - 1s 3ms/step - loss: 0.2498 - acc: 0.8880\n",
      "Epoch 30/50\n",
      "397/397 [==============================] - 1s 3ms/step - loss: 0.2635 - acc: 0.8822\n",
      "Epoch 31/50\n",
      "397/397 [==============================] - 1s 3ms/step - loss: 0.2639 - acc: 0.8833\n",
      "Epoch 32/50\n",
      "397/397 [==============================] - 1s 3ms/step - loss: 0.2547 - acc: 0.8874\n",
      "Epoch 33/50\n",
      "397/397 [==============================] - 1s 3ms/step - loss: 0.2456 - acc: 0.8916\n",
      "Epoch 34/50\n",
      "397/397 [==============================] - 1s 3ms/step - loss: 0.2384 - acc: 0.8940\n",
      "Epoch 35/50\n",
      "397/397 [==============================] - 1s 3ms/step - loss: 0.2525 - acc: 0.8888\n",
      "Epoch 36/50\n",
      "397/397 [==============================] - 1s 3ms/step - loss: 0.2412 - acc: 0.8946\n",
      "Epoch 37/50\n",
      "397/397 [==============================] - 1s 3ms/step - loss: 0.2330 - acc: 0.8944\n",
      "Epoch 38/50\n",
      "397/397 [==============================] - 1s 3ms/step - loss: 0.2430 - acc: 0.8930\n",
      "Epoch 39/50\n",
      "397/397 [==============================] - 1s 3ms/step - loss: 0.2154 - acc: 0.9037\n",
      "Epoch 40/50\n",
      "397/397 [==============================] - 1s 3ms/step - loss: 0.2409 - acc: 0.8936\n",
      "Epoch 41/50\n",
      "397/397 [==============================] - 1s 3ms/step - loss: 0.2221 - acc: 0.9014\n",
      "Epoch 42/50\n",
      "397/397 [==============================] - 1s 3ms/step - loss: 0.2332 - acc: 0.8968\n",
      "Epoch 43/50\n",
      "397/397 [==============================] - 1s 3ms/step - loss: 0.2309 - acc: 0.8982\n",
      "Epoch 44/50\n",
      "397/397 [==============================] - 1s 3ms/step - loss: 0.2189 - acc: 0.9045\n",
      "Epoch 45/50\n",
      "397/397 [==============================] - 1s 3ms/step - loss: 0.2099 - acc: 0.9059\n",
      "Epoch 46/50\n",
      "397/397 [==============================] - 1s 3ms/step - loss: 0.2245 - acc: 0.9010\n",
      "Epoch 47/50\n",
      "397/397 [==============================] - 1s 3ms/step - loss: 0.1976 - acc: 0.9107\n",
      "Epoch 48/50\n",
      "397/397 [==============================] - 1s 3ms/step - loss: 0.2369 - acc: 0.8972\n",
      "Epoch 49/50\n",
      "397/397 [==============================] - 1s 3ms/step - loss: 0.2142 - acc: 0.9062\n",
      "Epoch 50/50\n",
      "397/397 [==============================] - 1s 3ms/step - loss: 0.2042 - acc: 0.9079\n",
      "133/133 [==============================] - 0s 1ms/step - loss: 0.2788 - acc: 0.8904\n"
     ]
    },
    {
     "data": {
      "text/plain": [
       "[0.27882707118988037, 0.8904141783714294]"
      ]
     },
     "execution_count": 9,
     "metadata": {},
     "output_type": "execute_result"
    }
   ],
   "source": [
    "model = tf.keras.models.Sequential([\n",
    "    tf.keras.layers.Flatten(input_shape=(6, 1)),\n",
    "    tf.keras.layers.Dense(2048, activation='relu'),\n",
    "    tf.keras.layers.Dense(1024, activation='relu'),\n",
    "    tf.keras.layers.Dense(512,  activation='relu'),\n",
    "    tf.keras.layers.Dense(64,   activation='relu'),\n",
    "    tf.keras.layers.Dense(32,   activation='relu'),\n",
    "    tf.keras.layers.Dense(3, activation=tf.nn.softmax),\n",
    "])\n",
    "\n",
    "model.compile(optimizer=tf.optimizers.Adam(), loss='sparse_categorical_crossentropy', metrics=['acc'])\n",
    "model.fit(x_train, y_train, epochs=50)\n",
    "model.evaluate(x_test, y_test)"
   ]
  },
  {
   "cell_type": "code",
   "execution_count": 5,
   "id": "6e1bab56-3f1c-45f4-854d-4be0752c3ad6",
   "metadata": {},
   "outputs": [
    {
     "name": "stdout",
     "output_type": "stream",
     "text": [
      "133/133 [==============================] - 0s 1ms/step\n",
      "Predicted: 2\n",
      "Actual: [1]\n"
     ]
    }
   ],
   "source": [
    "prediction = model.predict(x_test)\n",
    "print( \"Predicted:\", np.argmax(prediction[1]))\n",
    "print( \"Actual:\", y_test[1])"
   ]
  },
  {
   "cell_type": "code",
   "execution_count": 6,
   "id": "0e3d5816-552a-4dad-9590-c3d70991a930",
   "metadata": {},
   "outputs": [
    {
     "name": "stdout",
     "output_type": "stream",
     "text": [
      "2.0\n",
      "0.5997633136094674\n",
      "0.6127021696252466\n"
     ]
    }
   ],
   "source": [
    "avg_train = np.round(np.average(y_train))\n",
    "avg_test = np.round(np.average(y_test))\n",
    "\n",
    "print(avg_test)\n",
    "\n",
    "print(np.sum(y_test == avg_test)/len(y_test))\n",
    "print(np.sum(y_train == avg_train)/len(y_train))"
   ]
  },
  {
   "cell_type": "code",
   "execution_count": 8,
   "id": "5ed449e8-e29e-43cc-9916-9c73f7c0e671",
   "metadata": {},
   "outputs": [
    {
     "name": "stdout",
     "output_type": "stream",
     "text": [
      "0\n",
      "6/6 [==============================] - 0s 2ms/step - loss: 0.8365 - acc: 0.6095\n",
      "1\n",
      "6/6 [==============================] - 0s 2ms/step - loss: 0.7625 - acc: 0.6391\n",
      "2\n",
      "6/6 [==============================] - 0s 2ms/step - loss: 0.5942 - acc: 0.7456\n",
      "3\n",
      "6/6 [==============================] - 0s 2ms/step - loss: 0.4987 - acc: 0.7456\n",
      "4\n",
      "6/6 [==============================] - 0s 2ms/step - loss: 0.5992 - acc: 0.7633\n",
      "5\n",
      "6/6 [==============================] - 0s 2ms/step - loss: 0.2370 - acc: 0.9112\n",
      "6\n",
      "6/6 [==============================] - 0s 2ms/step - loss: 0.2187 - acc: 0.9172\n",
      "7\n",
      "6/6 [==============================] - 0s 2ms/step - loss: 0.2106 - acc: 0.9349\n",
      "8\n",
      "6/6 [==============================] - 0s 2ms/step - loss: 0.3258 - acc: 0.8580\n",
      "9\n",
      "6/6 [==============================] - 0s 2ms/step - loss: 0.3546 - acc: 0.7988\n",
      "10\n",
      "6/6 [==============================] - 0s 2ms/step - loss: 0.3232 - acc: 0.8343\n"
     ]
    }
   ],
   "source": [
    "x_timed, y_timed = timedDataSet(\"./datasets/raw/logs_WT.csv\", \n",
    "                                \"./datasets/raw/Resultaten_WT.csv\", \n",
    "                                datetime.datetime(2020, 9, 15, 0, 0).timestamp(), \n",
    "                                datetime.datetime(2021, 2, 10, 0, 0).timestamp(),\n",
    "                                10)\n",
    "\n",
    "for i in range(11):\n",
    "    print(i)\n",
    "    model.evaluate(x_timed[i], y_timed[i])"
   ]
  }
 ],
 "metadata": {
  "kernelspec": {
   "display_name": "Python 3 (ipykernel)",
   "language": "python",
   "name": "python3"
  },
  "language_info": {
   "codemirror_mode": {
    "name": "ipython",
    "version": 3
   },
   "file_extension": ".py",
   "mimetype": "text/x-python",
   "name": "python",
   "nbconvert_exporter": "python",
   "pygments_lexer": "ipython3",
   "version": "3.10.7"
  }
 },
 "nbformat": 4,
 "nbformat_minor": 5
}

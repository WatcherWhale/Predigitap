{
 "cells": [
  {
   "cell_type": "code",
   "execution_count": 1,
   "id": "0b188fa6-af31-4a30-931c-cd8f4c03ce6f",
   "metadata": {},
   "outputs": [
    {
     "name": "stderr",
     "output_type": "stream",
     "text": [
      "2022-10-19 09:05:35.350356: I tensorflow/core/platform/cpu_feature_guard.cc:193] This TensorFlow binary is optimized with oneAPI Deep Neural Network Library (oneDNN) to use the following CPU instructions in performance-critical operations:  SSE3 SSE4.1 SSE4.2 AVX AVX2 FMA\n",
      "To enable them in other operations, rebuild TensorFlow with the appropriate compiler flags.\n",
      "2022-10-19 09:05:35.469372: E tensorflow/stream_executor/cuda/cuda_blas.cc:2981] Unable to register cuBLAS factory: Attempting to register factory for plugin cuBLAS when one has already been registered\n",
      "/home/watcherwhale/.local/lib/python3.10/site-packages/requests/__init__.py:102: RequestsDependencyWarning: urllib3 (1.26.12) or chardet (5.0.0)/charset_normalizer (2.0.12) doesn't match a supported version!\n",
      "  warnings.warn(\"urllib3 ({}) or chardet ({})/charset_normalizer ({}) doesn't match a supported \"\n"
     ]
    }
   ],
   "source": [
    "import tensorflow as tf\n",
    "import numpy as np\n",
    "import datetime\n",
    "import random\n",
    "from sklearn.model_selection import train_test_split\n",
    "\n",
    "from data.generator import generateDataSet, saveDataSet, timedDataSet"
   ]
  },
  {
   "cell_type": "code",
   "execution_count": 2,
   "id": "e8dbd519-eb11-40c2-998b-f23c7d6c951b",
   "metadata": {},
   "outputs": [],
   "source": [
    "input1, output1 = generateDataSet(\"./datasets/raw/logs_WT.csv\", \n",
    "                                \"./datasets/raw/Resultaten_WT.csv\", \n",
    "                                datetime.datetime(2020, 9, 15, 0, 0).timestamp(), \n",
    "                                datetime.datetime(2021, 2, 10, 0, 0).timestamp(),\n",
    "                                50)\n",
    "input2, output2 = generateDataSet(\"./datasets/raw/logs_DN.csv\", \n",
    "                                \"./datasets/raw/Resultaten_DN.csv\", \n",
    "                                datetime.datetime(2020, 9, 15, 0, 0).timestamp(), \n",
    "                                datetime.datetime(2021, 2, 10, 0, 0).timestamp(),\n",
    "                                50)\n",
    "\n",
    "input3, output3 = generateDataSet(\"./datasets/raw/logs_RS.csv\", \n",
    "                                \"./datasets/raw/Resultaten_DN.csv\", \n",
    "                                datetime.datetime(2021, 2, 1, 0, 0).timestamp(), \n",
    "                                datetime.datetime(2021, 6, 30, 0, 0).timestamp(),\n",
    "                                50)\n",
    "seed1 = random.randrange(0,100)\n",
    "seed2 = random.randrange(0,100)\n",
    "seed3 = random.randrange(0,100)\n",
    "\n",
    "random.Random(seed1).shuffle(input1)\n",
    "random.Random(seed1).shuffle(output1)\n",
    "\n",
    "random.Random(seed2).shuffle(input2)\n",
    "random.Random(seed2).shuffle(output2)\n",
    "\n",
    "random.Random(seed3).shuffle(input3)\n",
    "random.Random(seed3).shuffle(output3)\n",
    "\n",
    "input = []\n",
    "output = []\n",
    "\n",
    "input.extend(input1[0:10000])\n",
    "output.extend(output1[0:10000])\n",
    "\n",
    "input.extend(input2[0:10000])\n",
    "output.extend(output2[0:10000])\n",
    "\n",
    "input.extend(input3[0:10000])\n",
    "output.extend(output3[0:10000])\n",
    "\n",
    "x = np.array(input2)\n",
    "y = np.array(output2)"
   ]
  },
  {
   "cell_type": "code",
   "execution_count": 3,
   "id": "26aeee7a-52d4-4084-92fa-2e07e654951d",
   "metadata": {},
   "outputs": [
    {
     "name": "stdout",
     "output_type": "stream",
     "text": [
      "12937\n",
      "4313\n"
     ]
    }
   ],
   "source": [
    "x_train, x_test, y_train, y_test = train_test_split(x, y)\n",
    "\n",
    "print(len(x_train))\n",
    "print(len(x_test))"
   ]
  },
  {
   "cell_type": "code",
   "execution_count": 4,
   "id": "511aaf1e-7b40-4338-bb37-4a87ef468046",
   "metadata": {},
   "outputs": [
    {
     "name": "stderr",
     "output_type": "stream",
     "text": [
      "2022-10-19 09:05:40.719253: I tensorflow/stream_executor/cuda/cuda_gpu_executor.cc:980] successful NUMA node read from SysFS had negative value (-1), but there must be at least one NUMA node, so returning NUMA node zero\n",
      "2022-10-19 09:05:40.748659: I tensorflow/stream_executor/cuda/cuda_gpu_executor.cc:980] successful NUMA node read from SysFS had negative value (-1), but there must be at least one NUMA node, so returning NUMA node zero\n",
      "2022-10-19 09:05:40.748845: I tensorflow/stream_executor/cuda/cuda_gpu_executor.cc:980] successful NUMA node read from SysFS had negative value (-1), but there must be at least one NUMA node, so returning NUMA node zero\n"
     ]
    },
    {
     "name": "stdout",
     "output_type": "stream",
     "text": [
      "Epoch 1/50\n"
     ]
    },
    {
     "name": "stderr",
     "output_type": "stream",
     "text": [
      "2022-10-19 09:05:40.749854: I tensorflow/core/platform/cpu_feature_guard.cc:193] This TensorFlow binary is optimized with oneAPI Deep Neural Network Library (oneDNN) to use the following CPU instructions in performance-critical operations:  SSE3 SSE4.1 SSE4.2 AVX AVX2 FMA\n",
      "To enable them in other operations, rebuild TensorFlow with the appropriate compiler flags.\n",
      "2022-10-19 09:05:40.750841: I tensorflow/stream_executor/cuda/cuda_gpu_executor.cc:980] successful NUMA node read from SysFS had negative value (-1), but there must be at least one NUMA node, so returning NUMA node zero\n",
      "2022-10-19 09:05:40.751002: I tensorflow/stream_executor/cuda/cuda_gpu_executor.cc:980] successful NUMA node read from SysFS had negative value (-1), but there must be at least one NUMA node, so returning NUMA node zero\n",
      "2022-10-19 09:05:40.751125: I tensorflow/stream_executor/cuda/cuda_gpu_executor.cc:980] successful NUMA node read from SysFS had negative value (-1), but there must be at least one NUMA node, so returning NUMA node zero\n",
      "2022-10-19 09:05:41.104586: I tensorflow/stream_executor/cuda/cuda_gpu_executor.cc:980] successful NUMA node read from SysFS had negative value (-1), but there must be at least one NUMA node, so returning NUMA node zero\n",
      "2022-10-19 09:05:41.104750: I tensorflow/stream_executor/cuda/cuda_gpu_executor.cc:980] successful NUMA node read from SysFS had negative value (-1), but there must be at least one NUMA node, so returning NUMA node zero\n",
      "2022-10-19 09:05:41.104879: I tensorflow/stream_executor/cuda/cuda_gpu_executor.cc:980] successful NUMA node read from SysFS had negative value (-1), but there must be at least one NUMA node, so returning NUMA node zero\n",
      "2022-10-19 09:05:41.104980: I tensorflow/core/common_runtime/gpu/gpu_device.cc:1616] Created device /job:localhost/replica:0/task:0/device:GPU:0 with 3384 MB memory:  -> device: 0, name: NVIDIA GeForce GTX 1050 Ti, pci bus id: 0000:01:00.0, compute capability: 6.1\n",
      "2022-10-19 09:05:41.105259: I tensorflow/core/common_runtime/process_util.cc:146] Creating new thread pool with default inter op setting: 2. Tune using inter_op_parallelism_threads for best performance.\n"
     ]
    },
    {
     "name": "stdout",
     "output_type": "stream",
     "text": [
      "405/405 [==============================] - 2s 3ms/step - loss: 1.1016 - acc: 0.3695\n",
      "Epoch 2/50\n",
      "405/405 [==============================] - 1s 3ms/step - loss: 1.0700 - acc: 0.3837\n",
      "Epoch 3/50\n",
      "405/405 [==============================] - 1s 3ms/step - loss: 1.0678 - acc: 0.3792\n",
      "Epoch 4/50\n",
      "405/405 [==============================] - 1s 3ms/step - loss: 1.0635 - acc: 0.3819\n",
      "Epoch 5/50\n",
      "405/405 [==============================] - 1s 3ms/step - loss: 1.0616 - acc: 0.3824\n",
      "Epoch 6/50\n",
      "405/405 [==============================] - 1s 3ms/step - loss: 1.0583 - acc: 0.3867\n",
      "Epoch 7/50\n",
      "405/405 [==============================] - 1s 3ms/step - loss: 1.0671 - acc: 0.3814\n",
      "Epoch 8/50\n",
      "405/405 [==============================] - 1s 3ms/step - loss: 1.0605 - acc: 0.3809\n",
      "Epoch 9/50\n",
      "405/405 [==============================] - 1s 3ms/step - loss: 1.0679 - acc: 0.3842\n",
      "Epoch 10/50\n",
      "405/405 [==============================] - 1s 3ms/step - loss: 1.0623 - acc: 0.3821\n",
      "Epoch 11/50\n",
      "405/405 [==============================] - 1s 3ms/step - loss: 1.0627 - acc: 0.3825\n",
      "Epoch 12/50\n",
      "405/405 [==============================] - 1s 3ms/step - loss: 1.0556 - acc: 0.3853\n",
      "Epoch 13/50\n",
      "405/405 [==============================] - 1s 3ms/step - loss: 1.0571 - acc: 0.3885\n",
      "Epoch 14/50\n",
      "405/405 [==============================] - 1s 3ms/step - loss: 1.0566 - acc: 0.3924\n",
      "Epoch 15/50\n",
      "405/405 [==============================] - 1s 3ms/step - loss: 1.0521 - acc: 0.3965\n",
      "Epoch 16/50\n",
      "405/405 [==============================] - 1s 3ms/step - loss: 1.0501 - acc: 0.3967\n",
      "Epoch 17/50\n",
      "405/405 [==============================] - 1s 3ms/step - loss: 1.0496 - acc: 0.3960\n",
      "Epoch 18/50\n",
      "405/405 [==============================] - 1s 3ms/step - loss: 1.0434 - acc: 0.4014\n",
      "Epoch 19/50\n",
      "405/405 [==============================] - 1s 3ms/step - loss: 1.0434 - acc: 0.4063\n",
      "Epoch 20/50\n",
      "405/405 [==============================] - 1s 3ms/step - loss: 1.0432 - acc: 0.3986\n",
      "Epoch 21/50\n",
      "405/405 [==============================] - 1s 3ms/step - loss: 1.0402 - acc: 0.4053\n",
      "Epoch 22/50\n",
      "405/405 [==============================] - 1s 3ms/step - loss: 1.0324 - acc: 0.4047\n",
      "Epoch 23/50\n",
      "405/405 [==============================] - 1s 3ms/step - loss: 1.0303 - acc: 0.4103\n",
      "Epoch 24/50\n",
      "405/405 [==============================] - 1s 3ms/step - loss: 1.0270 - acc: 0.4072\n",
      "Epoch 25/50\n",
      "405/405 [==============================] - 1s 3ms/step - loss: 1.0288 - acc: 0.4146\n",
      "Epoch 26/50\n",
      "405/405 [==============================] - 1s 3ms/step - loss: 1.0276 - acc: 0.4115\n",
      "Epoch 27/50\n",
      "405/405 [==============================] - 1s 3ms/step - loss: 1.0246 - acc: 0.4122\n",
      "Epoch 28/50\n",
      "405/405 [==============================] - 1s 3ms/step - loss: 1.0309 - acc: 0.4114\n",
      "Epoch 29/50\n",
      "405/405 [==============================] - 1s 3ms/step - loss: 1.0272 - acc: 0.4141\n",
      "Epoch 30/50\n",
      "405/405 [==============================] - 1s 3ms/step - loss: 1.0303 - acc: 0.4183\n",
      "Epoch 31/50\n",
      "405/405 [==============================] - 1s 3ms/step - loss: 1.0179 - acc: 0.4272\n",
      "Epoch 32/50\n",
      "405/405 [==============================] - 1s 3ms/step - loss: 1.0160 - acc: 0.4279\n",
      "Epoch 33/50\n",
      "405/405 [==============================] - 1s 3ms/step - loss: 1.0159 - acc: 0.4254\n",
      "Epoch 34/50\n",
      "405/405 [==============================] - 1s 3ms/step - loss: 1.0157 - acc: 0.4307\n",
      "Epoch 35/50\n",
      "405/405 [==============================] - 1s 3ms/step - loss: 1.0131 - acc: 0.4312\n",
      "Epoch 36/50\n",
      "405/405 [==============================] - 1s 3ms/step - loss: 1.0104 - acc: 0.4343\n",
      "Epoch 37/50\n",
      "405/405 [==============================] - 1s 3ms/step - loss: 1.0077 - acc: 0.4399\n",
      "Epoch 38/50\n",
      "405/405 [==============================] - 1s 3ms/step - loss: 0.9996 - acc: 0.4412\n",
      "Epoch 39/50\n",
      "405/405 [==============================] - 1s 3ms/step - loss: 0.9989 - acc: 0.4420\n",
      "Epoch 40/50\n",
      "405/405 [==============================] - 1s 3ms/step - loss: 0.9968 - acc: 0.4412\n",
      "Epoch 41/50\n",
      "405/405 [==============================] - 1s 3ms/step - loss: 0.9903 - acc: 0.4445\n",
      "Epoch 42/50\n",
      "405/405 [==============================] - 1s 3ms/step - loss: 0.9803 - acc: 0.4554\n",
      "Epoch 43/50\n",
      "405/405 [==============================] - 1s 3ms/step - loss: 0.9819 - acc: 0.4581\n",
      "Epoch 44/50\n",
      "405/405 [==============================] - 1s 3ms/step - loss: 0.9839 - acc: 0.4554\n",
      "Epoch 45/50\n",
      "405/405 [==============================] - 1s 3ms/step - loss: 0.9697 - acc: 0.4668\n",
      "Epoch 46/50\n",
      "405/405 [==============================] - 1s 3ms/step - loss: 0.9628 - acc: 0.4721\n",
      "Epoch 47/50\n",
      "405/405 [==============================] - 1s 3ms/step - loss: 0.9605 - acc: 0.4778\n",
      "Epoch 48/50\n",
      "405/405 [==============================] - 1s 3ms/step - loss: 0.9527 - acc: 0.4787\n",
      "Epoch 49/50\n",
      "405/405 [==============================] - 1s 3ms/step - loss: 0.9436 - acc: 0.4846\n",
      "Epoch 50/50\n",
      "405/405 [==============================] - 1s 3ms/step - loss: 0.9382 - acc: 0.4881\n",
      "135/135 [==============================] - 0s 2ms/step - loss: 0.9607 - acc: 0.4686\n"
     ]
    },
    {
     "data": {
      "text/plain": [
       "[0.9606861472129822, 0.468583345413208]"
      ]
     },
     "execution_count": 4,
     "metadata": {},
     "output_type": "execute_result"
    }
   ],
   "source": [
    "model = tf.keras.models.Sequential([\n",
    "    tf.keras.layers.Flatten(input_shape=(6, 1)),\n",
    "    tf.keras.layers.Dense(2048, activation='relu'),\n",
    "    tf.keras.layers.Dense(1024, activation='relu'),\n",
    "    tf.keras.layers.Dense(512,  activation='relu'),\n",
    "    tf.keras.layers.Dense(64,   activation='relu'),\n",
    "    tf.keras.layers.Dense(32,   activation='relu'),\n",
    "    tf.keras.layers.Dense(16,   activation='relu'),\n",
    "    tf.keras.layers.Dense(3, activation=tf.nn.softmax),\n",
    "])\n",
    "\n",
    "model.compile(optimizer=tf.optimizers.Adam(), loss='sparse_categorical_crossentropy', metrics=['acc'])\n",
    "model.fit(x_train, y_train, epochs=50)\n",
    "model.evaluate(x_test, y_test)"
   ]
  },
  {
   "cell_type": "code",
   "execution_count": 5,
   "id": "6e1bab56-3f1c-45f4-854d-4be0752c3ad6",
   "metadata": {},
   "outputs": [
    {
     "name": "stdout",
     "output_type": "stream",
     "text": [
      "135/135 [==============================] - 0s 979us/step\n",
      "Predicted: 2\n",
      "Actual: [2]\n"
     ]
    }
   ],
   "source": [
    "prediction = model.predict(x_test)\n",
    "print( \"Predicted:\", np.argmax(prediction[250]))\n",
    "print( \"Actual:\", y_test[250])"
   ]
  },
  {
   "cell_type": "code",
   "execution_count": 6,
   "id": "0e3d5816-552a-4dad-9590-c3d70991a930",
   "metadata": {},
   "outputs": [
    {
     "name": "stdout",
     "output_type": "stream",
     "text": [
      "1.0\n",
      "0.35358219336888475\n",
      "0.3459070881966453\n"
     ]
    }
   ],
   "source": [
    "avg_train = np.round(np.average(y_train))\n",
    "avg_test = np.round(np.average(y_test))\n",
    "\n",
    "print(avg_test)\n",
    "\n",
    "print(np.sum(y_test == avg_test)/len(y_test))\n",
    "print(np.sum(y_train == avg_train)/len(y_train))"
   ]
  },
  {
   "cell_type": "code",
   "execution_count": 7,
   "id": "5ed449e8-e29e-43cc-9916-9c73f7c0e671",
   "metadata": {},
   "outputs": [
    {
     "name": "stdout",
     "output_type": "stream",
     "text": [
      "Web Tech\n",
      "0\n",
      "6/6 [==============================] - 0s 2ms/step - loss: 1.0537 - acc: 0.6095\n",
      "1\n",
      "6/6 [==============================] - 0s 2ms/step - loss: 1.9902 - acc: 0.5680\n",
      "2\n",
      "6/6 [==============================] - 0s 2ms/step - loss: 10.5609 - acc: 0.5503\n",
      "3\n",
      "6/6 [==============================] - 0s 2ms/step - loss: 14.5584 - acc: 0.5444\n",
      "4\n",
      "6/6 [==============================] - 0s 2ms/step - loss: 24.5792 - acc: 0.5562\n",
      "5\n",
      "6/6 [==============================] - 0s 2ms/step - loss: 28.6373 - acc: 0.5385\n",
      "6\n",
      "6/6 [==============================] - 0s 2ms/step - loss: 30.4597 - acc: 0.5385\n",
      "7\n",
      "6/6 [==============================] - 0s 2ms/step - loss: 28.3141 - acc: 0.5680\n",
      "8\n",
      "6/6 [==============================] - 0s 2ms/step - loss: 26.9200 - acc: 0.5503\n",
      "9\n",
      "6/6 [==============================] - 0s 2ms/step - loss: 29.8881 - acc: 0.5385\n",
      "10\n",
      "6/6 [==============================] - 0s 2ms/step - loss: 30.6864 - acc: 0.5325\n",
      "Data Networks\n",
      "0\n",
      "11/11 [==============================] - 0s 2ms/step - loss: 1.0785 - acc: 0.3826\n",
      "1\n",
      "11/11 [==============================] - 0s 1ms/step - loss: 1.0560 - acc: 0.4000\n",
      "2\n",
      "11/11 [==============================] - 0s 2ms/step - loss: 1.0101 - acc: 0.4348\n",
      "3\n",
      "11/11 [==============================] - 0s 1ms/step - loss: 0.9940 - acc: 0.4377\n",
      "4\n",
      "11/11 [==============================] - 0s 2ms/step - loss: 0.9683 - acc: 0.4696\n",
      "5\n",
      "11/11 [==============================] - 0s 2ms/step - loss: 0.9230 - acc: 0.5072\n",
      "6\n",
      "11/11 [==============================] - 0s 2ms/step - loss: 0.8670 - acc: 0.5304\n",
      "7\n",
      "11/11 [==============================] - 0s 2ms/step - loss: 0.8678 - acc: 0.5304\n",
      "8\n",
      "11/11 [==============================] - 0s 2ms/step - loss: 0.8607 - acc: 0.5275\n",
      "9\n",
      "11/11 [==============================] - 0s 2ms/step - loss: 0.8804 - acc: 0.5275\n",
      "10\n",
      "11/11 [==============================] - 0s 2ms/step - loss: 0.9003 - acc: 0.5159\n",
      "Routing & Switching\n",
      "0\n",
      "8/8 [==============================] - 0s 2ms/step - loss: 1.1037 - acc: 0.3040\n",
      "1\n",
      "8/8 [==============================] - 0s 2ms/step - loss: 1.5250 - acc: 0.3084\n",
      "2\n",
      "8/8 [==============================] - 0s 2ms/step - loss: 1.5807 - acc: 0.3568\n",
      "3\n",
      "8/8 [==============================] - 0s 2ms/step - loss: 1.8086 - acc: 0.3348\n",
      "4\n",
      "8/8 [==============================] - 0s 2ms/step - loss: 2.0939 - acc: 0.3172\n",
      "5\n",
      "8/8 [==============================] - 0s 2ms/step - loss: 2.6968 - acc: 0.3304\n",
      "6\n",
      "8/8 [==============================] - 0s 2ms/step - loss: 3.4757 - acc: 0.3612\n",
      "7\n",
      "8/8 [==============================] - 0s 2ms/step - loss: 4.6840 - acc: 0.3612\n",
      "8\n",
      "8/8 [==============================] - 0s 2ms/step - loss: 6.1290 - acc: 0.3568\n",
      "9\n",
      "8/8 [==============================] - 0s 2ms/step - loss: 7.6421 - acc: 0.3524\n",
      "10\n",
      "8/8 [==============================] - 0s 2ms/step - loss: 9.0993 - acc: 0.3656\n"
     ]
    }
   ],
   "source": [
    "x_timed, y_timed = timedDataSet(\"./datasets/raw/logs_WT.csv\", \n",
    "                                \"./datasets/raw/Resultaten_WT.csv\", \n",
    "                                datetime.datetime(2020, 9, 15, 0, 0).timestamp(), \n",
    "                                datetime.datetime(2021, 2, 10, 0, 0).timestamp(),\n",
    "                                10)\n",
    "\n",
    "x_timed2, y_timed2 = timedDataSet(\"./datasets/raw/logs_DN.csv\", \n",
    "                                  \"./datasets/raw/Resultaten_DN.csv\", \n",
    "                                  datetime.datetime(2020, 9, 15, 0, 0).timestamp(), \n",
    "                                  datetime.datetime(2021, 2, 10, 0, 0).timestamp(),\n",
    "                                  10)\n",
    "\n",
    "x_timed3, y_timed3 = timedDataSet(\"./datasets/raw/logs_RS.csv\", \n",
    "                                  \"./datasets/raw/Resultaten_RS.csv\", \n",
    "                                  datetime.datetime(2021, 2, 1, 0, 0).timestamp(), \n",
    "                                  datetime.datetime(2021, 6, 30, 0, 0).timestamp(),\n",
    "                                  10)\n",
    "\n",
    "print(\"Web Tech\")\n",
    "for i in range(11):\n",
    "    print(i)\n",
    "    model.evaluate(x_timed[i], y_timed[i])\n",
    "    \n",
    "print(\"Data Networks\")\n",
    "for i in range(11):\n",
    "    print(i)\n",
    "    model.evaluate(x_timed2[i], y_timed2[i])\n",
    "    \n",
    "print(\"Routing & Switching\")\n",
    "for i in range(11):\n",
    "    print(i)\n",
    "    model.evaluate(x_timed3[i], y_timed3[i])"
   ]
  }
 ],
 "metadata": {
  "kernelspec": {
   "display_name": "Python 3.9.13 64-bit (microsoft store)",
   "language": "python",
   "name": "python3"
  },
  "language_info": {
   "codemirror_mode": {
    "name": "ipython",
    "version": 3
   },
   "file_extension": ".py",
   "mimetype": "text/x-python",
   "name": "python",
   "nbconvert_exporter": "python",
   "pygments_lexer": "ipython3",
   "version": "3.9.13"
  },
  "vscode": {
   "interpreter": {
    "hash": "7efeb972ef2d0b981bc827620eb57bb67f3e9f405daab39579f6a4522d65427c"
   }
  }
 },
 "nbformat": 4,
 "nbformat_minor": 5
}

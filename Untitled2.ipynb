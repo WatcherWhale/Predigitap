{
 "cells": [
  {
   "cell_type": "code",
   "execution_count": 4,
   "id": "f064d505-4fec-4d7f-a54f-a69cc5156ce5",
   "metadata": {},
   "outputs": [
    {
     "name": "stdout",
     "output_type": "stream",
     "text": [
      "Enter passphrase: \n",
      "error: cannot pull with rebase: Your index contains uncommitted changes.\n",
      "error: please commit or stash them.\n"
     ]
    }
   ],
   "source": [
    "!git add .\n",
    "!git commit -a -m \"Wow veranderingen\"\n",
    "!git pull"
   ]
  }
 ],
 "metadata": {
  "kernelspec": {
   "display_name": "Python 3 (ipykernel)",
   "language": "python",
   "name": "python3"
  },
  "language_info": {
   "codemirror_mode": {
    "name": "ipython",
    "version": 3
   },
   "file_extension": ".py",
   "mimetype": "text/x-python",
   "name": "python",
   "nbconvert_exporter": "python",
   "pygments_lexer": "ipython3",
   "version": "3.10.8"
  }
 },
 "nbformat": 4,
 "nbformat_minor": 5
}
